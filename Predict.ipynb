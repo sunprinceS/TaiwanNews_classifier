{
 "cells": [
  {
   "cell_type": "markdown",
   "metadata": {
    "slideshow": {
     "slide_type": "slide"
    }
   },
   "source": [
    "# New or Old? Who are you :)))"
   ]
  },
  {
   "cell_type": "code",
   "execution_count": 1,
   "metadata": {
    "collapsed": true,
    "slideshow": {
     "slide_type": "skip"
    }
   },
   "outputs": [],
   "source": [
    "import numpy as np\n",
    "import os\n",
    "import matplotlib.pyplot as plt\n",
    "from sklearn import svm\n",
    "from sklearn.ensemble import RandomForestClassifier\n",
    "from sklearn.metrics import zero_one_loss\n",
    "%matplotlib inline"
   ]
  },
  {
   "cell_type": "markdown",
   "metadata": {},
   "source": [
    "Please paste your news text in the cell below:"
   ]
  },
  {
   "cell_type": "code",
   "execution_count": 2,
   "metadata": {
    "collapsed": false,
    "slideshow": {
     "slide_type": "slide"
    }
   },
   "outputs": [],
   "source": [
    "news='''在晚會中，蔡英文強調，團隊是來解決問題，國會將會成台灣改革的火車頭，但還缺了一小塊，就是區域立委，蔡適應就是最佳人選。\n",
    "\n",
    "蔡英文說，蔡適應當選立委，可以當林右昌最佳推手，做整體改革的最佳幫手，讓把「艱困選區」選成「激戰選區」的超級戰將蔡適應，成為「台灣頭」的立法委員，為基隆拚建設，為台灣拚未來，把改革團隊的陣容「補好補滿」。'''"
   ]
  },
  {
   "cell_type": "code",
   "execution_count": 3,
   "metadata": {
    "collapsed": false,
    "slideshow": {
     "slide_type": "subslide"
    }
   },
   "outputs": [
    {
     "data": {
      "image/png": "[encoded data removed]",
      "text/plain": [
       "<matplotlib.figure.Figure at 0x7f6ac55ade50>"
      ]
     },
     "metadata": {},
     "output_type": "display_data"
    }
   ],
   "source": [
    "w = open('demo','w')\n",
    "w.write(news)\n",
    "w.close()\n",
    "bashCommand = \"Rscript demo_cut.R\"\n",
    "os.system(bashCommand)\n",
    "\n",
    "data = np.loadtxt('out_matrix.txt',skiprows=1)\n",
    "ans_six = np.loadtxt('ans.txt')\n",
    "ans_binary = np.loadtxt('ans_binary.txt')\n",
    "train_x = data[:6000] \n",
    "train_y_six = ans_six[:6000]\n",
    "train_y_binary = ans_binary[:6000]\n",
    "test_x = data[-2:]\n",
    "# clf = svm.SVC(gamma=0.001, C=100.)\n",
    "# clf.fit(train_x,train_y_binary)\n",
    "# pre = clf.predict(test_x)\n",
    "# if(pre[1]==1): t = \"Old\"\n",
    "# else: t = \"New\"\n",
    "os.system(\"src/libsvm/python/predict.py SPEECH out > out.txt\")\n",
    "ttt = open('out.txt')\n",
    "t = ttt.read().splitlines()[8]\n",
    "    \n",
    "clf2 = RandomForestClassifier(n_estimators=300,n_jobs=2)\n",
    "clf2.fit(train_x,train_y_six)\n",
    "pre2 = clf2.predict_proba(test_x)\n",
    "plt.figure(figsize=(8, 4), dpi=80)\n",
    "index = np.arange(6)\n",
    "bar_width = 0.5\n",
    "plt.bar(range(6),pre2[1],color=('r','g','b','c','y','k'),alpha=0.8)\n",
    "plt.title(t,fontsize = 40)\n",
    "plt.ylabel('probability')\n",
    "plt.ylim(0,1.)\n",
    "plt.xticks(index + bar_width, ('AppleDaily', 'LibertyTimes', 'ChinaTimes', 'Newtalk', 'TaiwanPeople', 'Storm'))\n",
    "plt.show()"
   ]
  },
  {
   "cell_type": "markdown",
   "metadata": {
    "collapsed": true
   },
   "source": [
    "Data modeling..."
   ]
  }
 ],
 "metadata": {
  "kernelspec": {
   "display_name": "Python 2",
   "language": "python2",
   "name": "python2"
  },
  "language_info": {
   "codemirror_mode": {
    "name": "ipython",
    "version": 2
   },
   "file_extension": ".py",
   "mimetype": "text/x-python",
   "name": "python",
   "nbconvert_exporter": "python",
   "pygments_lexer": "ipython2",
   "version": "2.7.11"
  }
 },
 "nbformat": 4,
 "nbformat_minor": 0
}
